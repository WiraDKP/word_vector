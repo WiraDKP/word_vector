{
 "cells": [
  {
   "cell_type": "code",
   "execution_count": 1,
   "metadata": {},
   "outputs": [],
   "source": [
    "from pprint import pprint\n",
    "from gensim.summarization import summarize, keywords"
   ]
  },
  {
   "cell_type": "code",
   "execution_count": 2,
   "metadata": {},
   "outputs": [
    {
     "data": {
      "text/plain": [
       "'api dan bom sambut awal milenium baru lima orang tewas dan sekitar 130 cedera, 20 di antaranya mengalami luka bakar serius, ketika kafe het hemeltje (surga kecil) di volendam, kota di utara belanda, yang dipadati remaja yang tengah merayakan tahun baru terbakar. api bermula setengah jam setelah awal milenium baru, senin (1/1) pukul 00.30, dengan cepat melalap kafe di kota wisata tersebut. peristiwa tragis di volendam hanyalah satu dari sekian rangkaian peristiwa tragis, di tengah-tengah kemeriahan masyarakat dunia merayakan hari pertama milenium baru, milenium ketiga pada 1 januari 2001 dini hari. ledakan bom mengguncang dua gereja di bekas negara uni soviet, tajikistan pada malam menjelang tahun baru, minggu. kedua bom meledak berselang hanya setengah jam di ibu kota tajikistan, dushanbe. satu bom di gereja ortodoks, dan satu lagi di gereja adven hari ketujuh, tak menimbulkan korban. ini merupakan insiden serupa kedua dalam tiga bulan di negara asia tengah berpenduduk mayoritas muslim ini, menurut polisi setempat. peristiwa tiga bulan lalu, ketika sebuah bom meledak di gereja misi kristen korea di luar dushambe, oktober 2000, menewaskan setidaknya tujuh orang yang tengah mengikuti ibadat. ledakan bom, senin dini hari, juga merontokkan tembok-tembok yang mengelilingi gereja katolik di aden, yaman. namun, tak ada yang cedera. hanya ada lima gereja di yaman, seluruhnya di aden. loncat dari jendela korban pada malam tahun baru di kafe het hemeltje di volendam senin dini hari, kata wali kota volendam frank ijsselmuiden, umumnya akibat mereka berupaya menyelamatkan diri dengan memecah kaca jendela dan meloncat dari lantai tiga, untuk menghindari api yang tiba-tiba melalap kafe het hemeltje. \"sampai saat ini, lima orang tewas, satu di antaranya mati di rumah sakit. kami perkirakan, sekitar 130 orang lainnya cedera,\" ungkap frank ijsselmuiden. untuk melakukan bantuan pertolongan kecelakaan tersebut, menurut ijsselmuiden, diperlukan 100 ambulan. sekitar 53 yang cedera diangkut ke amsterdam, di rumah sakit amc. separuh di antaranya cedera bakar serius. \"dalam kepanikan, banyak di antara mereka meloncat dari jendela (lantai tiga),\" kata jubir polisi volendam, wietse peter. ia tambahkan, beberapa korban bakar dirawat oleh penduduk di sekitar kafe. sebagian dibaringkan di bak mandi. menurut polisi, kemungkinan api yang melanda kafe itu berawal dari hiasan lampu natal. banyaknya pengunjung malam itu dikarenakan volendam memang merupakan resor wisata terkenal di belanda, yang terletak di ijselmeer, sebuah danau daratan yang terhubung dengan laut utara. kembang api sebuah bom juga meledak di pusat kota istanbul, turki, senin dini hari, menyebabkan ribuan orang yang tengah merayakan malam tahun baru terpaksa mengungsikan diri. hanya sepuluh yang cedera. tidak ada sebuah pihak pun yang mengklaim insiden bom ini. namun, polisi istanbul memperkirakan, perbuatan ini dilakukan kaum militan kiri, yang diduga merencanakan aksi serangan malam tahun baru untuk membalas dendam atas pembunuhan rekan-rekan mereka yang mati dalam serangan kerusuhan dalam penjara turki belum lama ini. namun, secara keseluruhan, kemeriahan kembang api mewarnai awal milenium baru, tahun 2001, di berbagai tempat belahan dunia. filipina, sabtu, diguncang lima bom di ibu kota manila, yang menyebabkan 14 tewas serta 100 cedera dalam kurun waktu dua jam, juga dalam ingar-bingar pesta kembang api. sekitar 400 orang cedera akibat kena kembang api dan mercon di manila senin dini hari itu. meski baru diguncang bom, dan di belahan lain di filipina selatan dilanda berbagai peristiwa teror, mereka tetap menyambut meriah awal milenium baru kali ini. di beijing, cina, insiden berdarah terjadi senin dini hari. sekitar 300 anggota gerakan spiritual terlarang di cina, falun gong, ditangkapi dengan cara keras ketika mereka melakukan aksi demonstrasi. ribuan polisi, menurut afp, menendangi serta memukuli ratusan demonstran falun gong yang dinyatakan terlarang sejak tahun 1999. meski dilarang, pemerintah komunis cina belum juga berhasil memberantas anggota-anggota falun gong, yang hampir selalu menggunakan hari-hari libur besar untuk kesempatan demonstrasi atas pelarangan, serta penangkapan terhadap anggota-anggota mereka. di paris, perancis, menara terkenal eiffel berwarna biru. di new york, lapangan terkenal times square, diselimuti salju. sementara berbagai negara afrika dilanda perang, pembunuhan di awal tahun baru di timur tengah, serta kemeriahan dan insiden di asia. tidak ada gencatan senjata di timur tengah menjelang tahun baru minggu. bahkan, hari itu, seorang ekstremis yahudi dan istrinya ditembak mati orang palestina di tepi barat. binyamin zeev dan istrinya, talia, mati ditembak di mobilnya, lima anaknya cedera. hanya beberapa jam sebelumnya, seorang pejabat tinggi di sayap militer yasser arafat, fatah, tewas terbunuh oleh tentara israel. tsabit tsabit, sekjen faksi fatah di tulkarem, ditemukan tewas di depan rumahnya. dua polisi palestina juga dilaporkan tewas ditembak tentara israel pada awal tahun baru.'"
      ]
     },
     "execution_count": 2,
     "metadata": {},
     "output_type": "execute_result"
    }
   ],
   "source": [
    "with open(\"data/kompas.txt\", \"r\") as f:\n",
    "    lines = [line.strip(\"\\n\").lower() for line in f if line != \"\\n\"]\n",
    "    lines = \" \".join(lines)\n",
    "lines"
   ]
  },
  {
   "cell_type": "code",
   "execution_count": 3,
   "metadata": {},
   "outputs": [
    {
     "data": {
      "text/plain": [
       "['api dan bom sambut awal milenium baru lima orang tewas dan sekitar 130 cedera, 20 di antaranya mengalami luka bakar serius, ketika kafe het hemeltje (surga kecil) di volendam, kota di utara belanda, yang dipadati remaja yang tengah merayakan tahun baru terbakar.',\n",
       " 'api bermula setengah jam setelah awal milenium baru, senin (1/1) pukul 00.30, dengan cepat melalap kafe di kota wisata tersebut.',\n",
       " 'loncat dari jendela korban pada malam tahun baru di kafe het hemeltje di volendam senin dini hari, kata wali kota volendam frank ijsselmuiden, umumnya akibat mereka berupaya menyelamatkan diri dengan memecah kaca jendela dan meloncat dari lantai tiga, untuk menghindari api yang tiba-tiba melalap kafe het hemeltje.',\n",
       " 'kembang api sebuah bom juga meledak di pusat kota istanbul, turki, senin dini hari, menyebabkan ribuan orang yang tengah merayakan malam tahun baru terpaksa mengungsikan diri.',\n",
       " 'filipina, sabtu, diguncang lima bom di ibu kota manila, yang menyebabkan 14 tewas serta 100 cedera dalam kurun waktu dua jam, juga dalam ingar-bingar pesta kembang api.',\n",
       " 'sekitar 400 orang cedera akibat kena kembang api dan mercon di manila senin dini hari itu.',\n",
       " 'sementara berbagai negara afrika dilanda perang, pembunuhan di awal tahun baru di timur tengah, serta kemeriahan dan insiden di asia.',\n",
       " 'dua polisi palestina juga dilaporkan tewas ditembak tentara israel pada awal tahun baru.']"
      ]
     },
     "execution_count": 3,
     "metadata": {},
     "output_type": "execute_result"
    }
   ],
   "source": [
    "summarize(lines, split=True)"
   ]
  },
  {
   "cell_type": "code",
   "execution_count": 5,
   "metadata": {},
   "outputs": [
    {
     "data": {
      "text/plain": [
       "['yang',\n",
       " 'hari',\n",
       " 'cedera',\n",
       " 'ini',\n",
       " 'api dan bom',\n",
       " 'dalam',\n",
       " 'mereka',\n",
       " 'tengah',\n",
       " 'polisi',\n",
       " 'baru lima orang tewas',\n",
       " 'sekitar',\n",
       " 'juga',\n",
       " 'dengan',\n",
       " 'volendam kota',\n",
       " 'serta',\n",
       " 'untuk',\n",
       " 'gereja',\n",
       " 'peristiwa',\n",
       " 'satu dari',\n",
       " 'senin',\n",
       " 'kafe',\n",
       " 'terkenal',\n",
       " 'anggota',\n",
       " 'sebuah',\n",
       " 'awal',\n",
       " 'itu',\n",
       " 'insiden']"
      ]
     },
     "execution_count": 5,
     "metadata": {},
     "output_type": "execute_result"
    }
   ],
   "source": [
    "keywords(lines, ratio=0.1, split=True)"
   ]
  },
  {
   "cell_type": "markdown",
   "metadata": {},
   "source": [
    "# Other Feature\n",
    "\n",
    "```\n",
    "from gensim.models import Doc2Vec\n",
    "```"
   ]
  }
 ],
 "metadata": {
  "kernelspec": {
   "display_name": "Python [conda env:jcopnlp]",
   "language": "python",
   "name": "conda-env-jcopnlp-py"
  },
  "language_info": {
   "codemirror_mode": {
    "name": "ipython",
    "version": 3
   },
   "file_extension": ".py",
   "mimetype": "text/x-python",
   "name": "python",
   "nbconvert_exporter": "python",
   "pygments_lexer": "ipython3",
   "version": "3.7.6"
  }
 },
 "nbformat": 4,
 "nbformat_minor": 2
}
